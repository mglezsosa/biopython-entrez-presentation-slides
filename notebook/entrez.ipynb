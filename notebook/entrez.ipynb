{
 "cells": [
  {
   "cell_type": "markdown",
   "metadata": {},
   "source": [
    "### Setup."
   ]
  },
  {
   "cell_type": "code",
   "execution_count": 1,
   "metadata": {},
   "outputs": [],
   "source": [
    "from Bio import Entrez\n",
    "Entrez.email = \"sosa@uma.es\"\n",
    "Entrez.tool = \"Biopython presentation notebook\"\n",
    "# Entrez.api_key = \"5cfd4026f9df285d6cfc723c662dxxxxxxxx\""
   ]
  },
  {
   "cell_type": "markdown",
   "metadata": {},
   "source": [
    "### Einfo: Obtaining information about the Entrez databases"
   ]
  },
  {
   "cell_type": "markdown",
   "metadata": {},
   "source": [
    "Printing the XML response."
   ]
  },
  {
   "cell_type": "code",
   "execution_count": 2,
   "metadata": {},
   "outputs": [
    {
     "name": "stdout",
     "output_type": "stream",
     "text": [
      "<?xml version=\"1.0\" encoding=\"UTF-8\" ?>\n",
      "<!DOCTYPE eInfoResult PUBLIC \"-//NLM//DTD einfo 20130322//EN\" \"https://eutils.ncbi.nlm.nih.gov/eutils/dtd/20130322/einfo.dtd\">\n",
      "<eInfoResult>\n",
      "<DbList>\n",
      "\n",
      "\t<DbName>pubmed</DbName>\n",
      "\t<DbName>protein</DbName>\n",
      "\t<DbName>nuccore</DbName>\n",
      "\t<DbName>ipg</DbName>\n",
      "\t<DbName>nucleotide</DbName>\n",
      "\t<DbName>nucgss</DbName>\n",
      "\t<DbName>nucest</DbName>\n",
      "\t<DbName>structure</DbName>\n",
      "\t<DbName>sparcle</DbName>\n",
      "\t<DbName>genome</DbName>\n",
      "\t<DbName>annotinfo</DbName>\n",
      "\t<DbName>assembly</DbName>\n",
      "\t<DbName>bioproject</DbName>\n",
      "\t<DbName>biosample</DbName>\n",
      "\t<DbName>blastdbinfo</DbName>\n",
      "\t<DbName>books</DbName>\n",
      "\t<DbName>cdd</DbName>\n",
      "\t<DbName>clinvar</DbName>\n",
      "\t<DbName>clone</DbName>\n",
      "\t<DbName>gap</DbName>\n",
      "\t<DbName>gapplus</DbName>\n",
      "\t<DbName>grasp</DbName>\n",
      "\t<DbName>dbvar</DbName>\n",
      "\t<DbName>gene</DbName>\n",
      "\t<DbName>gds</DbName>\n",
      "\t<DbName>geoprofiles</DbName>\n",
      "\t<DbName>homologene</DbName>\n",
      "\t<DbName>medgen</DbName>\n",
      "\t<DbName>mesh</DbName>\n",
      "\t<DbName>ncbisearch</DbName>\n",
      "\t<DbName>nlmcatalog</DbName>\n",
      "\t<DbName>omim</DbName>\n",
      "\t<DbName>orgtrack</DbName>\n",
      "\t<DbName>pmc</DbName>\n",
      "\t<DbName>popset</DbName>\n",
      "\t<DbName>probe</DbName>\n",
      "\t<DbName>proteinclusters</DbName>\n",
      "\t<DbName>pcassay</DbName>\n",
      "\t<DbName>biosystems</DbName>\n",
      "\t<DbName>pccompound</DbName>\n",
      "\t<DbName>pcsubstance</DbName>\n",
      "\t<DbName>pubmedhealth</DbName>\n",
      "\t<DbName>seqannot</DbName>\n",
      "\t<DbName>snp</DbName>\n",
      "\t<DbName>sra</DbName>\n",
      "\t<DbName>taxonomy</DbName>\n",
      "\t<DbName>biocollections</DbName>\n",
      "\t<DbName>unigene</DbName>\n",
      "\t<DbName>gencoll</DbName>\n",
      "\t<DbName>gtr</DbName>\n",
      "</DbList>\n",
      "\n",
      "</eInfoResult>\n",
      "\n"
     ]
    }
   ],
   "source": [
    "handle = Entrez.einfo()\n",
    "result = handle.read()\n",
    "handle.close()\n",
    "print(result)"
   ]
  },
  {
   "cell_type": "markdown",
   "metadata": {},
   "source": [
    "Parsing the XML into a python dictionary."
   ]
  },
  {
   "cell_type": "code",
   "execution_count": 3,
   "metadata": {
    "scrolled": true
   },
   "outputs": [
    {
     "name": "stdout",
     "output_type": "stream",
     "text": [
      "{'DbList': ['pubmed', 'protein', 'nuccore', 'ipg', 'nucleotide', 'nucgss', 'nucest', 'structure', 'sparcle', 'genome', 'annotinfo', 'assembly', 'bioproject', 'biosample', 'blastdbinfo', 'books', 'cdd', 'clinvar', 'clone', 'gap', 'gapplus', 'grasp', 'dbvar', 'gene', 'gds', 'geoprofiles', 'homologene', 'medgen', 'mesh', 'ncbisearch', 'nlmcatalog', 'omim', 'orgtrack', 'pmc', 'popset', 'probe', 'proteinclusters', 'pcassay', 'biosystems', 'pccompound', 'pcsubstance', 'pubmedhealth', 'seqannot', 'snp', 'sra', 'taxonomy', 'biocollections', 'unigene', 'gencoll', 'gtr']}\n"
     ]
    }
   ],
   "source": [
    "with Entrez.einfo() as handle:\n",
    "    print(Entrez.read(handle))"
   ]
  },
  {
   "cell_type": "markdown",
   "metadata": {},
   "source": [
    "We can retrieve more information of every database."
   ]
  },
  {
   "cell_type": "code",
   "execution_count": 4,
   "metadata": {},
   "outputs": [
    {
     "name": "stdout",
     "output_type": "stream",
     "text": [
      "{'DbInfo': {'DbName': 'pubmed', 'MenuName': 'PubMed', 'Description': 'PubMed bibliographic record', 'DbBuild': 'Build180604-2212m.3', 'Count': '28512410', 'LastUpdate': '2018/06/05 15:38', 'FieldList': [{'Name': 'ALL', 'FullName': 'All Fields', 'Description': 'All terms from all searchable fields', 'TermCount': '201334348', 'IsDate': 'N', 'IsNumerical': 'N', 'SingleToken': 'N', 'Hierarchy': 'N', 'IsHidden': 'N'}, {'Name': 'UID', 'FullName': 'UID', 'Description': 'Unique number assigned to publication', 'TermCount': '0', 'IsDate': 'N', 'IsNumerical': 'Y', 'SingleToken': 'Y', 'Hierarchy': 'N', 'IsHidden': 'Y'}, {'Name': 'FILT', 'FullName': 'Filter', 'Description': 'Limits the records', 'TermCount': '11708', 'IsDate': 'N', 'IsNumerical': 'N', 'SingleToken': 'Y', 'Hierarchy': 'N', 'IsHidden': 'N'}, {'Name': 'TITL', 'FullName': 'Title', 'Description': 'Words in title of publication', 'TermCount': '17003536', 'IsDate': 'N', 'IsNumerical': 'N', 'SingleToken': 'N', 'Hierarchy': 'N', 'IsHidden': 'N'}, {'Name': 'WORD', 'FullName': 'Text Word', 'Description': 'Free text associated with publication', 'TermCount': '61052620', 'IsDate': 'N', 'IsNumerical': 'N', 'SingleToken': 'N', 'Hierarchy': 'N', 'IsHidden': 'N'}, {'Name': 'MESH', 'FullName': 'MeSH Terms', 'Description': 'Medical Subject Headings assigned to publication', 'TermCount': '609571', 'IsDate': 'N', 'IsNumerical': 'N', 'SingleToken': 'Y', 'Hierarchy': 'Y', 'IsHidden': 'N'}, {'Name': 'MAJR', 'FullName': 'MeSH Major Topic', 'Description': 'MeSH terms of major importance to publication', 'TermCount': '546995', 'IsDate': 'N', 'IsNumerical': 'N', 'SingleToken': 'Y', 'Hierarchy': 'Y', 'IsHidden': 'N'}, {'Name': 'AUTH', 'FullName': 'Author', 'Description': 'Author(s) of publication', 'TermCount': '19116838', 'IsDate': 'N', 'IsNumerical': 'N', 'SingleToken': 'Y', 'Hierarchy': 'N', 'IsHidden': 'N'}, {'Name': 'JOUR', 'FullName': 'Journal', 'Description': 'Journal abbreviation of publication', 'TermCount': '193647', 'IsDate': 'N', 'IsNumerical': 'N', 'SingleToken': 'Y', 'Hierarchy': 'N', 'IsHidden': 'N'}, {'Name': 'AFFL', 'FullName': 'Affiliation', 'Description': \"Author's institutional affiliation and address\", 'TermCount': '45890711', 'IsDate': 'N', 'IsNumerical': 'N', 'SingleToken': 'N', 'Hierarchy': 'N', 'IsHidden': 'N'}, {'Name': 'ECNO', 'FullName': 'EC/RN Number', 'Description': 'EC number for enzyme or CAS registry number', 'TermCount': '99735', 'IsDate': 'N', 'IsNumerical': 'N', 'SingleToken': 'Y', 'Hierarchy': 'N', 'IsHidden': 'N'}, {'Name': 'SUBS', 'FullName': 'Supplementary Concept', 'Description': 'CAS chemical name or MEDLINE Substance Name', 'TermCount': '256927', 'IsDate': 'N', 'IsNumerical': 'N', 'SingleToken': 'Y', 'Hierarchy': 'N', 'IsHidden': 'N'}, {'Name': 'PDAT', 'FullName': 'Date - Publication', 'Description': 'Date of publication', 'TermCount': '39108', 'IsDate': 'Y', 'IsNumerical': 'N', 'SingleToken': 'Y', 'Hierarchy': 'N', 'IsHidden': 'N'}, {'Name': 'EDAT', 'FullName': 'Date - Entrez', 'Description': 'Date publication first accessible through Entrez', 'TermCount': '37995', 'IsDate': 'Y', 'IsNumerical': 'N', 'SingleToken': 'Y', 'Hierarchy': 'N', 'IsHidden': 'N'}, {'Name': 'VOL', 'FullName': 'Volume', 'Description': 'Volume number of publication', 'TermCount': '12932', 'IsDate': 'N', 'IsNumerical': 'N', 'SingleToken': 'Y', 'Hierarchy': 'N', 'IsHidden': 'N'}, {'Name': 'PAGE', 'FullName': 'Pagination', 'Description': 'Page number(s) of publication', 'TermCount': '3111697', 'IsDate': 'N', 'IsNumerical': 'N', 'SingleToken': 'Y', 'Hierarchy': 'N', 'IsHidden': 'N'}, {'Name': 'PTYP', 'FullName': 'Publication Type', 'Description': 'Type of publication (e.g., review)', 'TermCount': '83', 'IsDate': 'N', 'IsNumerical': 'N', 'SingleToken': 'Y', 'Hierarchy': 'Y', 'IsHidden': 'N'}, {'Name': 'LANG', 'FullName': 'Language', 'Description': 'Language of publication', 'TermCount': '59', 'IsDate': 'N', 'IsNumerical': 'N', 'SingleToken': 'Y', 'Hierarchy': 'N', 'IsHidden': 'N'}, {'Name': 'ISS', 'FullName': 'Issue', 'Description': 'Issue number of publication', 'TermCount': '16619', 'IsDate': 'N', 'IsNumerical': 'N', 'SingleToken': 'Y', 'Hierarchy': 'N', 'IsHidden': 'N'}, {'Name': 'SUBH', 'FullName': 'MeSH Subheading', 'Description': 'Additional specificity for MeSH term', 'TermCount': '79', 'IsDate': 'N', 'IsNumerical': 'N', 'SingleToken': 'Y', 'Hierarchy': 'Y', 'IsHidden': 'N'}, {'Name': 'SI', 'FullName': 'Secondary Source ID', 'Description': 'Cross-reference from publication to other databases', 'TermCount': '7702039', 'IsDate': 'N', 'IsNumerical': 'N', 'SingleToken': 'Y', 'Hierarchy': 'N', 'IsHidden': 'N'}, {'Name': 'MHDA', 'FullName': 'Date - MeSH', 'Description': 'Date publication was indexed with MeSH terms', 'TermCount': '37847', 'IsDate': 'Y', 'IsNumerical': 'N', 'SingleToken': 'Y', 'Hierarchy': 'N', 'IsHidden': 'N'}, {'Name': 'TIAB', 'FullName': 'Title/Abstract', 'Description': 'Free text associated with Abstract/Title', 'TermCount': '51679745', 'IsDate': 'N', 'IsNumerical': 'N', 'SingleToken': 'N', 'Hierarchy': 'N', 'IsHidden': 'N'}, {'Name': 'OTRM', 'FullName': 'Other Term', 'Description': 'Other terms associated with publication', 'TermCount': '3477543', 'IsDate': 'N', 'IsNumerical': 'N', 'SingleToken': 'N', 'Hierarchy': 'N', 'IsHidden': 'N'}, {'Name': 'INVR', 'FullName': 'Investigator', 'Description': 'Investigator', 'TermCount': '1561621', 'IsDate': 'N', 'IsNumerical': 'N', 'SingleToken': 'Y', 'Hierarchy': 'N', 'IsHidden': 'N'}, {'Name': 'COLN', 'FullName': 'Author - Corporate', 'Description': 'Corporate Author of publication', 'TermCount': '242179', 'IsDate': 'N', 'IsNumerical': 'N', 'SingleToken': 'N', 'Hierarchy': 'N', 'IsHidden': 'N'}, {'Name': 'CNTY', 'FullName': 'Place of Publication', 'Description': 'Country of publication', 'TermCount': '229', 'IsDate': 'N', 'IsNumerical': 'N', 'SingleToken': 'N', 'Hierarchy': 'N', 'IsHidden': 'Y'}, {'Name': 'PAPX', 'FullName': 'Pharmacological Action', 'Description': 'MeSH pharmacological action pre-explosions', 'TermCount': '553', 'IsDate': 'N', 'IsNumerical': 'N', 'SingleToken': 'Y', 'Hierarchy': 'N', 'IsHidden': 'N'}, {'Name': 'GRNT', 'FullName': 'Grant Number', 'Description': 'NIH Grant Numbers', 'TermCount': '3802891', 'IsDate': 'N', 'IsNumerical': 'N', 'SingleToken': 'Y', 'Hierarchy': 'N', 'IsHidden': 'N'}, {'Name': 'MDAT', 'FullName': 'Date - Modification', 'Description': 'Date of last modification', 'TermCount': '6937', 'IsDate': 'Y', 'IsNumerical': 'N', 'SingleToken': 'Y', 'Hierarchy': 'N', 'IsHidden': 'N'}, {'Name': 'CDAT', 'FullName': 'Date - Completion', 'Description': 'Date of completion', 'TermCount': '11522', 'IsDate': 'Y', 'IsNumerical': 'N', 'SingleToken': 'Y', 'Hierarchy': 'N', 'IsHidden': 'N'}, {'Name': 'PID', 'FullName': 'Publisher ID', 'Description': 'Publisher ID', 'TermCount': '22124154', 'IsDate': 'N', 'IsNumerical': 'N', 'SingleToken': 'Y', 'Hierarchy': 'N', 'IsHidden': 'Y'}, {'Name': 'FAUT', 'FullName': 'Author - First', 'Description': 'First Author of publication', 'TermCount': '10283481', 'IsDate': 'N', 'IsNumerical': 'N', 'SingleToken': 'Y', 'Hierarchy': 'N', 'IsHidden': 'N'}, {'Name': 'FULL', 'FullName': 'Author - Full', 'Description': 'Full Author Name(s) of publication', 'TermCount': '12547757', 'IsDate': 'N', 'IsNumerical': 'N', 'SingleToken': 'Y', 'Hierarchy': 'N', 'IsHidden': 'N'}, {'Name': 'FINV', 'FullName': 'Investigator - Full', 'Description': 'Full name of investigator', 'TermCount': '885095', 'IsDate': 'N', 'IsNumerical': 'N', 'SingleToken': 'Y', 'Hierarchy': 'N', 'IsHidden': 'N'}, {'Name': 'TT', 'FullName': 'Transliterated Title', 'Description': 'Words in transliterated title of publication', 'TermCount': '2316063', 'IsDate': 'N', 'IsNumerical': 'N', 'SingleToken': 'N', 'Hierarchy': 'N', 'IsHidden': 'N'}, {'Name': 'LAUT', 'FullName': 'Author - Last', 'Description': 'Last Author of publication', 'TermCount': '8738735', 'IsDate': 'N', 'IsNumerical': 'N', 'SingleToken': 'Y', 'Hierarchy': 'N', 'IsHidden': 'N'}, {'Name': 'PPDT', 'FullName': 'Print Publication Date', 'Description': 'Date of print publication', 'TermCount': '39102', 'IsDate': 'Y', 'IsNumerical': 'N', 'SingleToken': 'Y', 'Hierarchy': 'N', 'IsHidden': 'Y'}, {'Name': 'EPDT', 'FullName': 'Electronic Publication Date', 'Description': 'Date of Electronic publication', 'TermCount': '7165', 'IsDate': 'Y', 'IsNumerical': 'N', 'SingleToken': 'Y', 'Hierarchy': 'N', 'IsHidden': 'Y'}, {'Name': 'LID', 'FullName': 'Location ID', 'Description': 'ELocation ID', 'TermCount': '14186146', 'IsDate': 'N', 'IsNumerical': 'N', 'SingleToken': 'Y', 'Hierarchy': 'N', 'IsHidden': 'N'}, {'Name': 'CRDT', 'FullName': 'Date - Create', 'Description': 'Date publication first accessible through Entrez', 'TermCount': '30101', 'IsDate': 'Y', 'IsNumerical': 'N', 'SingleToken': 'Y', 'Hierarchy': 'N', 'IsHidden': 'N'}, {'Name': 'BOOK', 'FullName': 'Book', 'Description': 'ID of the book that contains the document', 'TermCount': '5420', 'IsDate': 'N', 'IsNumerical': 'N', 'SingleToken': 'Y', 'Hierarchy': 'N', 'IsHidden': 'N'}, {'Name': 'ED', 'FullName': 'Editor', 'Description': \"Section's Editor\", 'TermCount': '4549', 'IsDate': 'N', 'IsNumerical': 'N', 'SingleToken': 'Y', 'Hierarchy': 'N', 'IsHidden': 'N'}, {'Name': 'ISBN', 'FullName': 'ISBN', 'Description': 'ISBN', 'TermCount': '3559', 'IsDate': 'N', 'IsNumerical': 'N', 'SingleToken': 'Y', 'Hierarchy': 'N', 'IsHidden': 'N'}, {'Name': 'PUBN', 'FullName': 'Publisher', 'Description': \"Publisher's name\", 'TermCount': '512', 'IsDate': 'N', 'IsNumerical': 'N', 'SingleToken': 'Y', 'Hierarchy': 'N', 'IsHidden': 'N'}, {'Name': 'AUCL', 'FullName': 'Author Cluster ID', 'Description': 'Author Cluster ID', 'TermCount': '0', 'IsDate': 'N', 'IsNumerical': 'N', 'SingleToken': 'Y', 'Hierarchy': 'N', 'IsHidden': 'Y'}, {'Name': 'EID', 'FullName': 'Extended PMID', 'Description': 'Extended PMID', 'TermCount': '28498541', 'IsDate': 'N', 'IsNumerical': 'N', 'SingleToken': 'Y', 'Hierarchy': 'N', 'IsHidden': 'Y'}, {'Name': 'DSO', 'FullName': 'DSO', 'Description': 'Additional text from the summary', 'TermCount': '341164', 'IsDate': 'N', 'IsNumerical': 'N', 'SingleToken': 'N', 'Hierarchy': 'N', 'IsHidden': 'Y'}, {'Name': 'AUID', 'FullName': 'Author - Identifier', 'Description': 'Author Identifier', 'TermCount': '2253372', 'IsDate': 'N', 'IsNumerical': 'N', 'SingleToken': 'Y', 'Hierarchy': 'N', 'IsHidden': 'N'}, {'Name': 'PS', 'FullName': 'Subject - Personal Name', 'Description': 'Personal Name as Subject', 'TermCount': '540142', 'IsDate': 'N', 'IsNumerical': 'N', 'SingleToken': 'Y', 'Hierarchy': 'N', 'IsHidden': 'N'}, {'Name': 'COIS', 'FullName': 'Conflict of Interest Statements', 'Description': 'Conflict of Interest Statements', 'TermCount': '152073', 'IsDate': 'N', 'IsNumerical': 'N', 'SingleToken': 'N', 'Hierarchy': 'N', 'IsHidden': 'N'}], 'LinkList': [{'Name': 'pubmed_assembly', 'Menu': 'Assembly', 'Description': 'Assembly', 'DbTo': 'assembly'}, {'Name': 'pubmed_bioproject', 'Menu': 'Project Links', 'Description': 'Related Projects', 'DbTo': 'bioproject'}, {'Name': 'pubmed_biosample', 'Menu': 'BioSample Links', 'Description': 'BioSample links', 'DbTo': 'biosample'}, {'Name': 'pubmed_biosystems', 'Menu': 'BioSystem Links', 'Description': 'BioSystems', 'DbTo': 'biosystems'}, {'Name': 'pubmed_books_refs', 'Menu': 'Cited in Books', 'Description': 'PubMed links associated with Books', 'DbTo': 'books'}, {'Name': 'pubmed_cdd', 'Menu': 'Conserved Domain Links', 'Description': 'Link to related CDD entry', 'DbTo': 'cdd'}, {'Name': 'pubmed_clinvar', 'Menu': 'ClinVar', 'Description': 'Clinical variations associated with publication', 'DbTo': 'clinvar'}, {'Name': 'pubmed_clinvar_calculated', 'Menu': 'ClinVar (calculated)', 'Description': 'Clinical variations calculated to be associated with publication', 'DbTo': 'clinvar'}, {'Name': 'pubmed_dbvar', 'Menu': 'dbVar', 'Description': 'Link from PubMed to dbVar', 'DbTo': 'dbvar'}, {'Name': 'pubmed_gap', 'Menu': 'dbGaP Links', 'Description': 'Related dbGaP record', 'DbTo': 'gap'}, {'Name': 'pubmed_gds', 'Menu': 'GEO DataSet Links', 'Description': 'Related GEO DataSets', 'DbTo': 'gds'}, {'Name': 'pubmed_gene', 'Menu': 'Gene Links', 'Description': 'Link to related Genes', 'DbTo': 'gene'}, {'Name': 'pubmed_gene_bookrecords', 'Menu': 'Gene (from Bookshelf)', 'Description': 'Gene records in this citation', 'DbTo': 'gene'}, {'Name': 'pubmed_gene_citedinomim', 'Menu': 'Gene (OMIM) Links', 'Description': 'PubMed links to Gene derived from pubmed_omim_cited links', 'DbTo': 'gene'}, {'Name': 'pubmed_gene_pmc_nucleotide', 'Menu': 'Gene (nucleotide/PMC)', 'Description': 'Records in Gene identified from shared sequence and PMC links.', 'DbTo': 'gene'}, {'Name': 'pubmed_gene_rif', 'Menu': 'Gene (GeneRIF) Links', 'Description': 'Link to Gene for the GeneRIF subcategory', 'DbTo': 'gene'}, {'Name': 'pubmed_genome', 'Menu': 'Genome Links', 'Description': 'Published genome sequences', 'DbTo': 'genome'}, {'Name': 'pubmed_geoprofiles', 'Menu': 'GEO Profile Links', 'Description': 'GEO records associated with pubmed record', 'DbTo': 'geoprofiles'}, {'Name': 'pubmed_homologene', 'Menu': 'HomoloGene Links', 'Description': 'Related HomoloGene', 'DbTo': 'homologene'}, {'Name': 'pubmed_medgen', 'Menu': 'MedGen', 'Description': 'Related information in MedGen', 'DbTo': 'medgen'}, {'Name': 'pubmed_medgen_bookshelf_cited', 'Menu': 'MedGen (Bookshelf cited)', 'Description': 'Related records in MedGen based on citations in GeneReviews and Medical Genetics Summaries', 'DbTo': 'medgen'}, {'Name': 'pubmed_medgen_genereviews', 'Menu': 'MedGen (GeneReviews)', 'Description': 'Related MedGen records', 'DbTo': 'medgen'}, {'Name': 'pubmed_medgen_omim', 'Menu': 'MedGen (OMIM)', 'Description': 'Related information in MedGen (OMIM)', 'DbTo': 'medgen'}, {'Name': 'pubmed_nuccore', 'Menu': 'Nucleotide Links', 'Description': 'Published Nucleotide sequences', 'DbTo': 'nuccore'}, {'Name': 'pubmed_nuccore_refseq', 'Menu': 'Nucleotide (RefSeq) Links', 'Description': 'Link to Nucleotide RefSeqs', 'DbTo': 'nuccore'}, {'Name': 'pubmed_nuccore_weighted', 'Menu': 'Nucleotide (Weighted) Links', 'Description': 'Links to nuccore', 'DbTo': 'nuccore'}, {'Name': 'pubmed_nucest', 'Menu': 'EST Links', 'Description': 'Published EST sequences', 'DbTo': 'nucest'}, {'Name': 'pubmed_nucgss', 'Menu': 'GSS Links', 'Description': 'Published GSS sequences', 'DbTo': 'nucgss'}, {'Name': 'pubmed_omim_bookrecords', 'Menu': 'OMIM (from Bookshelf)', 'Description': 'OMIM records in this citation', 'DbTo': 'omim'}, {'Name': 'pubmed_omim_calculated', 'Menu': 'OMIM (calculated) Links', 'Description': 'OMIM (calculated) Links', 'DbTo': 'omim'}, {'Name': 'pubmed_omim_cited', 'Menu': 'OMIM (cited) Links', 'Description': 'OMIM (cited) Links', 'DbTo': 'omim'}, {'Name': 'pubmed_pcassay', 'Menu': 'PubChem BioAssay', 'Description': 'Related PubChem BioAssay', 'DbTo': 'pcassay'}, {'Name': 'pubmed_pccompound', 'Menu': 'PubChem Compound', 'Description': 'Related PubChem Compound', 'DbTo': 'pccompound'}, {'Name': 'pubmed_pccompound_mesh', 'Menu': 'PubChem Compound (MeSH Keyword)', 'Description': 'Related PubChem Compound via MeSH', 'DbTo': 'pccompound'}, {'Name': 'pubmed_pccompound_publisher', 'Menu': 'PubChem Compound (Publisher)', 'Description': 'Publisher deposited structures linked to PubChem Compound', 'DbTo': 'pccompound'}, {'Name': 'pubmed_pcsubstance', 'Menu': 'PubChem Substance Links', 'Description': 'Related PubChem Substance', 'DbTo': 'pcsubstance'}, {'Name': 'pubmed_pcsubstance_bookrecords', 'Menu': 'PubChem Substance (from Bookshelf)', 'Description': 'Structures in the PubChem Substance database in this citation', 'DbTo': 'pcsubstance'}, {'Name': 'pubmed_pcsubstance_publisher', 'Menu': 'PubChem Substance (Publisher)', 'Description': 'PubChem Substances supplied by publisher', 'DbTo': 'pcsubstance'}, {'Name': 'pubmed_pmc', 'Menu': 'PMC Links', 'Description': 'Free full text articles in PMC', 'DbTo': 'pmc'}, {'Name': 'pubmed_pmc_bookrecords', 'Menu': 'References in PMC for this Bookshelf citation', 'Description': 'Full text of articles in PubMed Central cited in this record', 'DbTo': 'pmc'}, {'Name': 'pubmed_pmc_embargo', 'Menu': '', 'Description': 'Embargoed PMC article associated with PubMed', 'DbTo': 'pmc'}, {'Name': 'pubmed_pmc_local', 'Menu': '', 'Description': 'Free full text articles in PMC', 'DbTo': 'pmc'}, {'Name': 'pubmed_pmc_refs', 'Menu': 'Cited in PMC', 'Description': 'PubMed links associated with PMC', 'DbTo': 'pmc'}, {'Name': 'pubmed_popset', 'Menu': 'PopSet Links', 'Description': 'Published population set', 'DbTo': 'popset'}, {'Name': 'pubmed_probe', 'Menu': 'Probe Links', 'Description': 'Related Probe entry', 'DbTo': 'probe'}, {'Name': 'pubmed_protein', 'Menu': 'Protein Links', 'Description': 'Published protein sequences', 'DbTo': 'protein'}, {'Name': 'pubmed_protein_refseq', 'Menu': 'Protein (RefSeq) Links', 'Description': 'Link to Protein RefSeqs', 'DbTo': 'protein'}, {'Name': 'pubmed_protein_weighted', 'Menu': 'Protein (Weighted) Links', 'Description': 'Links to protein', 'DbTo': 'protein'}, {'Name': 'pubmed_proteinclusters', 'Menu': 'Protein Cluster Links', 'Description': 'Related Protein Clusters', 'DbTo': 'proteinclusters'}, {'Name': 'pubmed_pubmed', 'Menu': 'Similar articles', 'Description': 'Similar PubMed articles, obtained by matching text and MeSH terms', 'DbTo': 'pubmed'}, {'Name': 'pubmed_pubmed_alsoviewed', 'Menu': 'Articles frequently viewed together', 'Description': 'Articles frequently viewed together', 'DbTo': 'pubmed'}, {'Name': 'pubmed_pubmed_bookrecords', 'Menu': 'References for this Bookshelf citation', 'Description': 'PubMed abstracts for articles cited in this record', 'DbTo': 'pubmed'}, {'Name': 'pubmed_pubmed_pmh_cited', 'Menu': 'Cited in systematic reviews', 'Description': 'PubMed Health systematic reviews that cite this article.', 'DbTo': 'pubmed'}, {'Name': 'pubmed_pubmed_refs', 'Menu': 'References for PMC Articles', 'Description': 'References for this PMC Article', 'DbTo': 'pubmed'}, {'Name': 'pubmed_snp', 'Menu': 'SNP Links', 'Description': 'PubMed to SNP links', 'DbTo': 'snp'}, {'Name': 'pubmed_snp_cited', 'Menu': 'SNP (Cited)', 'Description': 'Related SNP (Cited) records', 'DbTo': 'snp'}, {'Name': 'pubmed_sra', 'Menu': 'SRA Links', 'Description': 'Links to Short Read Archive Experiments', 'DbTo': 'sra'}, {'Name': 'pubmed_structure', 'Menu': 'Structure Links', 'Description': 'Published 3D structures', 'DbTo': 'structure'}, {'Name': 'pubmed_taxonomy_entrez', 'Menu': 'Taxonomy via GenBank', 'Description': 'Related Taxonomy entry computed using other Entrez links', 'DbTo': 'taxonomy'}, {'Name': 'pubmed_unigene', 'Menu': 'UniGene Links', 'Description': 'Related UniGene', 'DbTo': 'unigene'}]}}\n"
     ]
    }
   ],
   "source": [
    "with Entrez.einfo(db=\"pubmed\") as handle:\n",
    "    print(Entrez.read(handle))"
   ]
  },
  {
   "cell_type": "markdown",
   "metadata": {},
   "source": [
    "### ESearch: Searching the Entrez databases"
   ]
  },
  {
   "cell_type": "code",
   "execution_count": 5,
   "metadata": {},
   "outputs": [
    {
     "data": {
      "text/plain": [
       "{'Count': '3', 'RetMax': '3', 'RetStart': '0', 'IdList': ['1153959381', '440586435', '426263228'], 'TranslationSet': [{'From': 'Pinus pinaster', 'To': '\"Pinus pinaster\"[Organism] OR Pinus pinaster[All Fields]'}], 'TranslationStack': [{'Term': '\"Pinus pinaster\"[Organism]', 'Field': 'Organism', 'Count': '12293', 'Explode': 'Y'}, {'Term': 'Pinus pinaster[All Fields]', 'Field': 'All Fields', 'Count': '13963', 'Explode': 'N'}, 'OR', 'GROUP', {'Term': 'GS1b[All Fields]', 'Field': 'All Fields', 'Count': '12', 'Explode': 'N'}, 'AND', {'Term': 'glutamine synthetase[All Fields]', 'Field': 'All Fields', 'Count': '432024', 'Explode': 'N'}, 'AND', 'GROUP'], 'QueryTranslation': '(\"Pinus pinaster\"[Organism] OR Pinus pinaster[All Fields]) AND GS1b[All Fields] AND glutamine synthetase[All Fields]'}"
      ]
     },
     "execution_count": 5,
     "metadata": {},
     "output_type": "execute_result"
    }
   ],
   "source": [
    "with Entrez.esearch(db=\"nucleotide\", term=\"Pinus pinaster GS1b glutamine synthetase\") as handle:\n",
    "    ids = Entrez.read(handle)\n",
    "ids"
   ]
  },
  {
   "cell_type": "markdown",
   "metadata": {},
   "source": [
    "###  ESummary: Retrieving summaries from primary IDs"
   ]
  },
  {
   "cell_type": "markdown",
   "metadata": {},
   "source": [
    "Retrieve summary of every result in 'Pinus pinaster GS1b glutamine synthetase' search."
   ]
  },
  {
   "cell_type": "code",
   "execution_count": 6,
   "metadata": {},
   "outputs": [
    {
     "data": {
      "text/plain": [
       "[{'Item': [], 'Id': '1153959381', 'Caption': 'KU641798', 'Title': 'Pinus pinaster cytosolic glutamine synthetase GS1b (GS1b) mRNA, complete cds', 'Extra': 'gi|1153959381|gb|KU641798.1|[1153959381]', 'Gi': 1153959381, 'CreateDate': '2018/02/28', 'UpdateDate': '2018/02/28', 'Flags': 0, 'TaxId': 71647, 'Length': 1435, 'Status': 'live', 'ReplacedBy': '', 'Comment': '  ', 'AccessionVersion': 'KU641798.1'}, {'Item': [], 'Id': '440586435', 'Caption': 'HE866753', 'Title': 'Pinus pinaster GS1b gene promoter region', 'Extra': 'gi|440586435|emb|HE866753.1|[440586435]', 'Gi': 440586435, 'CreateDate': '2013/01/07', 'UpdateDate': '2013/01/07', 'Flags': 0, 'TaxId': 71647, 'Length': 1209, 'Status': 'live', 'ReplacedBy': '', 'Comment': '  ', 'AccessionVersion': 'HE866753.1'}, {'Item': [], 'Id': '426263228', 'Caption': 'HF548531', 'Title': 'Pinus pinaster GS1b gene for glutamine synthetase', 'Extra': 'gi|426263228|emb|HF548531.1|[426263228]', 'Gi': 426263228, 'CreateDate': '2012/12/02', 'UpdateDate': '2012/12/02', 'Flags': 0, 'TaxId': 71647, 'Length': 1578, 'Status': 'live', 'ReplacedBy': '', 'Comment': '  ', 'AccessionVersion': 'HF548531.1'}]"
      ]
     },
     "execution_count": 6,
     "metadata": {},
     "output_type": "execute_result"
    }
   ],
   "source": [
    "Entrez.read(Entrez.esummary(db=\"nucleotide\", id=\",\".join(ids[\"IdList\"])))"
   ]
  },
  {
   "cell_type": "markdown",
   "metadata": {},
   "source": [
    "###  EFetch: Downloading full records from Entrez"
   ]
  },
  {
   "cell_type": "code",
   "execution_count": 7,
   "metadata": {},
   "outputs": [
    {
     "name": "stdout",
     "output_type": "stream",
     "text": [
      ">KU641798.1 Pinus pinaster cytosolic glutamine synthetase GS1b (GS1b) mRNA, complete cds\n",
      "CTTCCTCAGGTCGGGCTTGCCCTTTGCATCAATTGCTATAAATTCTTATTTCAGTGGCCTTTATTTCGAA\n",
      "ATAGCAGATCAAAGGCCTTCACTGCTTGCAGAATTATACTTGTGCGGGAGTCTGTGATTTTGTTGTACAT\n",
      "CCAAGATGTCTCTACTGACGGATTTGATCAACTTGGACCTCTCTGATGTCACTGAGAAGATCATCGCTGA\n",
      "GTACATATGGATCGGAGGCTCTGGCATGGATATCCGCAGCAAGGCCAGGACCTTATCTCACCCAGTTACG\n",
      "GACCCCAAAGATCTACCCAAGTGGAATTATGATGGATCCAGTACTGGACAGGCTCCTGGAAAGGATAGTG\n",
      "AAGTCATCCTTTACCCTCAGGCTATCTTCAGGGATCCATTCCGCAGGGGGAACAACATCTTGGTGATTTG\n",
      "TGATACATATACCCCAGCTGGAGAACCTATTCCTACTAACAAGAGAGCAAATGCTGCAAAAATATTTAGC\n",
      "CATCCCGATGTTGTTGTCGAGGAACCATGGTACGGGATTGAACAAGAATACACTCTTCTGCAAAAGGATG\n",
      "TGAATTGGCCTCTTGGATGGCCCGTAGGTGGTTACCCTGGTCCTCAGGGTCCTTATTATTGTGGAACTGG\n",
      "AGCAGACAAAGCCTACGGCCGTGATATCGTCGATGCCCACTATAAGGCTTGCCTGTATGCAGGAATCAAC\n",
      "ATTAGTGGCATCAATGGAGAAGTCATGCCCGGTCAATGGGAATTTCAAGTTGGCCCGACGGTTGGTATTT\n",
      "CATCTGGTGATCAAGTCTGGGCTGCACGTTACCTTCTTGAGAGAATCACAGAAGTGGCTGGTGTTGTCCT\n",
      "CTCATTTGACCCCAAACCCATTCAGGGTGATTGGAATGGTGCTGGTGCTCACACTAACTACAGTACGAAA\n",
      "TCAATGAGAGAAGAAGGGGGAATTAAAGTGATCAAAAAGGCCATTGAAAAGTTAGGGTTGAGGCATAAGG\n",
      "AACACATTGCTGCCTATGGAGAGGGCAACGAGAGGCGTTTGACTGGCCGACATGAGACAGCAGACATAAA\n",
      "CACATTTTCATGGGGAGTTGCAAATCGTGGAGCTTCTATTCGAGTTGGCCGTGACACGGAACGTGAAGGC\n",
      "AAAGGGTACTTCGAAGACCGCAGGCCAGCTTCCAACATGGACCCCTATATTGTAACATCTATGATTGCTG\n",
      "AGACAACCATCCTTTTGAAGTGAGAGTAACATTGTTTACTGAATGAATAAAGATGCCGATACGATTGAAG\n",
      "TGTTCTTGATGCTAGTCAAATTGCGAAGGGATCCCCAATTGTTTGTGGGGGATATTCTCATTTGAATTTC\n",
      "TCTCTGTGCCTGAAGTATTTCCCCTATTTCTGTTAATAAGAACATTCTAGAAATAGGACTTGAGATTTAG\n",
      "GGTGCATTATATTCAGTGTCTAGTTTGTCATTCAG\n",
      "\n",
      ">HE866753.1 Pinus pinaster GS1b gene promoter region\n",
      "TGGTAAATTTCATGTAAAACCGATACAAAAAATAATTAGAAGGGGGGGTTTAGAATATAAAAAGATTCAG\n",
      "TGTGGAAGTTGGATTTATCCGACCAATAAACGACTCCCATGTAAACTCACTCCACAAAACCCTGGGATTC\n",
      "CATCCATGTTTGGTTGGTTCTCGTAAAATGAAGGAGGAGGAGGAGCATTCCTTTCCCTGGCTTGGCTTGG\n",
      "CTCGGCTCGGCTCGGCTTGGCGGGATGAACATCCAAGGGCCACCACTCTCTCCAACACTTTCGGAACCCT\n",
      "AAGCAAGCACTGTCGGATGTGCATGGTAGGCCGGGTAAGTCGGGGAGCGCATTAAATATAGATTAAAGTG\n",
      "AATAAAATAATAATAATAATGTGAGGAAAAAAAGAAATTGGGAATGGAATGCATACGGAATCGTGGGGGA\n",
      "TCGTGATGTCCGTCCATCCGTCACCCATGACTCATGCCTACTTTTAATATTCCACATAAAATGAATACAA\n",
      "TCACCCATGACTCATGCCTACTTTTAATATTCCACATAAAATGAATACAATTCCCCGTGAGGTGCGGCGG\n",
      "GCTACCGCAAATGCAAGTCAAGGAGATATGTCGTGTATAGATTCAAAGCATAGCATGCCATATCATATGG\n",
      "CATGCAGAGGTTCAGATTACAGCTTCAACCGGTCAAGATTAAGGTTGCAACCGGCCGAATCTGGAACTGA\n",
      "CTTCCAGTCCAATCCAACCTCTCGTCAACCTACCACTCTTTCCCACGTTTTAACCCTCCGGGCGGCGCCT\n",
      "TCGCCAAACCCCCTGCGAAACCCCAATTAACTGTGTTAGGTAGTAATAGTGACTTGAGTGACTTCAAGTA\n",
      "TAATTACGACCTTTCTAAATCCAATCCCTACCCTACTACATGGGTTTTCACCGGGGTAAAATATTGACCT\n",
      "ACAAACCACCGCAGTCCAACCACCCTCCCTCCTCCTTCACGAAGAGAGGACTTCGGTTATTCATAATTTA\n",
      "TATTTATAGACCTGCCTTTTTGTCTTAAAAACAATAGAGGTTTCTTAATACCCCATCTTCGTTCATTGGT\n",
      "TTCGATAAATCCTTCCTCAGGTCGGGCTTGCCCTTTGCATCAATTGCTATAAATTCTTATTTCAGCGGCC\n",
      "TTTATTTCGAAATAGCAGATCGAAGGCCTTCACTGCTTGCAGAATTATACTTGTGCGGGGGTCTGTGATT\n",
      "TTGTTGTACATCCAAGATG\n",
      "\n",
      ">HF548531.1 Pinus pinaster GS1b gene for glutamine synthetase\n",
      "AGTGGATCCCCCGGGCTGCAGGTCCCCATCTTCTTTCATTGGTTTCTATAAATTCTTCCTCAGGTTGGGG\n",
      "TTGCCCTTTGCATCAATTGCTATAAATTCTTATTTCAGTGGCCTTTATTTCGAAATAGCAGATCAAAGGC\n",
      "CTTCACTGCTTGCAGAATTATACTTGTGCGGGAGTCTGTGATTTTGTTGTACATCCAAGATGTCTCTACT\n",
      "GACGGATTTGATCAACTTGGACCTCTCTGATGTCACTGAGAAGATCATCGCTGAGTACATATGGATCGGA\n",
      "GGCTCTGGCATGGATATCCGCAGCAAGGCCAGGACCTTATCTCACCCAGTTACGGACCCCAAAGATCTAC\n",
      "CCAAGTGGAATTATGATGGATCCAGTACTGGACAGGCTCCTGGAAAGGATAGTGAAGTCATCCTTTACCC\n",
      "TCAGGCTATCTTCAGGGATCCATTCCGCAGGGGGAACAACATCTTGGTGATTTGTGATACATATACCCCA\n",
      "GCTGGAGAACCTATTCCTACTAACAAGAGAGCAAATGCTGCAAAAATATTTAGCCATCCCGATGTTGTTG\n",
      "TCGAGGAACCATGGTACGGGATTGAACAAGAATACACTCTTCTGCAAAAGGATGTGAATTGGCCTCTTGG\n",
      "ATGGCCCGTAGGTGGTTACCCTGGTCCTCAGGGTCCTTATTATTGTGGAACTGGAGCAGACAAAGCCTAC\n",
      "GGCCGTGATATCGTCGATGCCCACTATAAGGCTTGCCTGTATGCAGGAATCAACATTAGTGGCATCAATG\n",
      "GAGAAGTCATGCCCGGTCAATGGGAATTTCAAGTTGGCCCGACGGTTGGTATTTCATCTGGTGATCAAGT\n",
      "CTGGGCTGCACGTTACCTTCTTGAGAGAATCACAGAAGTGGCTGGTGTTGTCCTCTCATTTGACCCCAAA\n",
      "CCCATTCAGGGTGATTGGAATGGTGCTGGTGCTCACACTAACTACAGTACGAAATCAATGAGAGAAGAAG\n",
      "GGGGAATTAAAGTGATCAAAAAGGCCATTGAAAAGTTAGGGTTGAGGCATAAGGAACACATTGCTGCCTA\n",
      "TGGAGAGGGCAACGAGAGGCGTTTGACTGGCCGACATGAGACAGCAGACATAAACACATTTTCATGGGGA\n",
      "GTTGCAAATCGTGGAGCTTCTATTCGAGTTGGCCGTGACACGGAACGTGAAGGCAAAGGGTACTTCGAAG\n",
      "ACCGCAGGCCAGCTTCCAACATGGACCCCTATATTGTAACATCTATGATTGCTGAGACAACCATCCTTTT\n",
      "GAAGTGAGAGTAACATTGTTTACTGAATGAATAAAGATGCCGATACGATTGAAGTGTTCTTGATGCTAGT\n",
      "CAAATTGCGAAGGGATCCCCAATTGTTTGTGGGGGATATTCTCATTTGAATTTCTCTCTGTGCCTGAAGT\n",
      "ATTTCCCCTATTTCTGTTAATAAGAACATTCTAGAAATAGGACTTGAGATTTAGGGTGCATTATATTCAG\n",
      "TGTCTAGTTTGTCATTCAGATTTGCATTATTCCATGACTCTGATATGATTGGTGTGCAGTTGAATTTAAT\n",
      "GAATTCAGAAGTTCTTTAATTGCTTGCGAAGGTTGGGG\n",
      "\n",
      "\n"
     ]
    }
   ],
   "source": [
    "handle = Entrez.efetch(db=\"nucleotide\", id=\",\".join(ids[\"IdList\"]), rettype=\"fasta\", retmode=\"text\")\n",
    "print(handle.read())"
   ]
  },
  {
   "cell_type": "markdown",
   "metadata": {},
   "source": [
    "###  ELink: Searching for related items in NCBI Entrez"
   ]
  },
  {
   "cell_type": "code",
   "execution_count": 8,
   "metadata": {},
   "outputs": [
    {
     "name": "stdout",
     "output_type": "stream",
     "text": [
      "pubmed pubmed_pubmed 193\n",
      "pubmed pubmed_pubmed_alsoviewed 5\n",
      "pubmed pubmed_pubmed_citedin 547\n",
      "pubmed pubmed_pubmed_combined 6\n",
      "pubmed pubmed_pubmed_five 6\n",
      "pubmed pubmed_pubmed_refs 17\n",
      "pubmed pubmed_pubmed_reviews 8\n",
      "pubmed pubmed_pubmed_reviews_five 6\n"
     ]
    }
   ],
   "source": [
    "record = Entrez.read(Entrez.elink(dbfrom=\"pubmed\", id=\"19304878\")) # The biopython article in pubmed.\n",
    "for linksetdb in record[0][\"LinkSetDb\"]:\n",
    "    print(linksetdb[\"DbTo\"], linksetdb[\"LinkName\"], len(linksetdb[\"Link\"]))"
   ]
  },
  {
   "cell_type": "code",
   "execution_count": 9,
   "metadata": {},
   "outputs": [
    {
     "data": {
      "text/plain": [
       "'14630660'"
      ]
     },
     "execution_count": 9,
     "metadata": {},
     "output_type": "execute_result"
    }
   ],
   "source": [
    "related = record[0][\"LinkSetDb\"][0][\"Link\"][1][\"Id\"]\n",
    "related"
   ]
  },
  {
   "cell_type": "code",
   "execution_count": 10,
   "metadata": {},
   "outputs": [
    {
     "data": {
      "text/plain": [
       "'PDB file parser and structure class implemented in Python.'"
      ]
     },
     "execution_count": 10,
     "metadata": {},
     "output_type": "execute_result"
    }
   ],
   "source": [
    "result = Entrez.read(Entrez.esummary(db=\"pubmed\", id=related))\n",
    "result[0][\"Title\"]"
   ]
  },
  {
   "cell_type": "markdown",
   "metadata": {},
   "source": [
    "### EGQuery: Global Query - counts for search terms"
   ]
  },
  {
   "cell_type": "code",
   "execution_count": 11,
   "metadata": {},
   "outputs": [
    {
     "name": "stdout",
     "output_type": "stream",
     "text": [
      "{'DbName': 'pubmed', 'MenuName': 'PubMed', 'Count': '267', 'Status': 'Ok'}\n",
      "{'DbName': 'pmc', 'MenuName': 'PubMed Central', 'Count': '9349', 'Status': 'Ok'}\n",
      "{'DbName': 'mesh', 'MenuName': 'MeSH', 'Count': '5', 'Status': 'Ok'}\n",
      "{'DbName': 'books', 'MenuName': 'Books', 'Count': '13', 'Status': 'Ok'}\n",
      "{'DbName': 'pubmedhealth', 'MenuName': 'PubMed Health', 'Count': '7', 'Status': 'Ok'}\n",
      "{'DbName': 'omim', 'MenuName': 'OMIM', 'Count': '0', 'Status': 'Term or Database is not found'}\n",
      "{'DbName': 'ncbisearch', 'MenuName': 'Site Search', 'Count': '0', 'Status': 'Term or Database is not found'}\n",
      "{'DbName': 'nuccore', 'MenuName': 'Nucleotide', 'Count': '0', 'Status': 'Term or Database is not found'}\n",
      "{'DbName': 'nucgss', 'MenuName': 'GSS', 'Count': '438363', 'Status': 'Ok'}\n",
      "{'DbName': 'nucest', 'MenuName': 'EST', 'Count': '0', 'Status': 'Term or Database is not found'}\n",
      "{'DbName': 'protein', 'MenuName': 'Protein', 'Count': '20', 'Status': 'Ok'}\n",
      "{'DbName': 'genome', 'MenuName': 'Genome', 'Count': '0', 'Status': 'Term or Database is not found'}\n",
      "{'DbName': 'structure', 'MenuName': 'Structure', 'Count': '13', 'Status': 'Ok'}\n",
      "{'DbName': 'taxonomy', 'MenuName': 'Taxonomy', 'Count': '0', 'Status': 'Term or Database is not found'}\n",
      "{'DbName': 'snp', 'MenuName': 'SNP', 'Count': '0', 'Status': 'Term or Database is not found'}\n",
      "{'DbName': 'dbvar', 'MenuName': 'dbVar', 'Count': '0', 'Status': 'Term or Database is not found'}\n",
      "{'DbName': 'gene', 'MenuName': 'Gene', 'Count': '0', 'Status': 'Term or Database is not found'}\n",
      "{'DbName': 'sra', 'MenuName': 'SRA', 'Count': '0', 'Status': 'Term or Database is not found'}\n",
      "{'DbName': 'biosystems', 'MenuName': 'BioSystems', 'Count': '0', 'Status': 'Term or Database is not found'}\n",
      "{'DbName': 'unigene', 'MenuName': 'UniGene', 'Count': '0', 'Status': 'Term or Database is not found'}\n",
      "{'DbName': 'cdd', 'MenuName': 'Conserved Domains', 'Count': '0', 'Status': 'Term or Database is not found'}\n",
      "{'DbName': 'clone', 'MenuName': 'Clone', 'Count': '0', 'Status': 'Term or Database is not found'}\n",
      "{'DbName': 'popset', 'MenuName': 'PopSet', 'Count': '0', 'Status': 'Term or Database is not found'}\n",
      "{'DbName': 'geoprofiles', 'MenuName': 'GEO Profiles', 'Count': '105389', 'Status': 'Ok'}\n",
      "{'DbName': 'gds', 'MenuName': 'GEO DataSets', 'Count': '153', 'Status': 'Ok'}\n",
      "{'DbName': 'homologene', 'MenuName': 'HomoloGene', 'Count': '0', 'Status': 'Term or Database is not found'}\n",
      "{'DbName': 'pccompound', 'MenuName': 'PubChem Compound', 'Count': '0', 'Status': 'Term or Database is not found'}\n",
      "{'DbName': 'pcsubstance', 'MenuName': 'PubChem Substance', 'Count': '0', 'Status': 'Term or Database is not found'}\n",
      "{'DbName': 'pcassay', 'MenuName': 'PubChem BioAssay', 'Count': '31', 'Status': 'Ok'}\n",
      "{'DbName': 'nlmcatalog', 'MenuName': 'NLM Catalog', 'Count': '1', 'Status': 'Ok'}\n",
      "{'DbName': 'probe', 'MenuName': 'Probe', 'Count': '2', 'Status': 'Ok'}\n",
      "{'DbName': 'gap', 'MenuName': 'dbGaP', 'Count': '3227', 'Status': 'Ok'}\n",
      "{'DbName': 'proteinclusters', 'MenuName': 'Protein Clusters', 'Count': '0', 'Status': 'Term or Database is not found'}\n",
      "{'DbName': 'bioproject', 'MenuName': 'BioProject', 'Count': '27', 'Status': 'Ok'}\n",
      "{'DbName': 'biosample', 'MenuName': 'BioSample', 'Count': '0', 'Status': 'Term or Database is not found'}\n",
      "{'DbName': 'biocollections', 'MenuName': 'BioCollections', 'Count': '0', 'Status': 'Term or Database is not found'}\n"
     ]
    }
   ],
   "source": [
    "handle = Entrez.egquery(term=\"rosetta software\")\n",
    "record = Entrez.read(handle)\n",
    "for row in record[\"eGQueryResult\"]:\n",
    "     print(row)"
   ]
  },
  {
   "cell_type": "markdown",
   "metadata": {},
   "source": [
    "###  ESpell: Obtaining spelling suggestion"
   ]
  },
  {
   "cell_type": "code",
   "execution_count": 12,
   "metadata": {},
   "outputs": [
    {
     "data": {
      "text/plain": [
       "'rosseta software'"
      ]
     },
     "execution_count": 12,
     "metadata": {},
     "output_type": "execute_result"
    }
   ],
   "source": [
    "handle = Entrez.espell(term=\"rosseta software\")\n",
    "record = Entrez.read(handle)\n",
    "record[\"Query\"]"
   ]
  },
  {
   "cell_type": "code",
   "execution_count": 13,
   "metadata": {},
   "outputs": [
    {
     "data": {
      "text/plain": [
       "'rosetta software'"
      ]
     },
     "execution_count": 13,
     "metadata": {},
     "output_type": "execute_result"
    }
   ],
   "source": [
    "record[\"CorrectedQuery\"]"
   ]
  },
  {
   "cell_type": "markdown",
   "metadata": {},
   "source": [
    "### EPost: UID uploads"
   ]
  },
  {
   "cell_type": "code",
   "execution_count": 15,
   "metadata": {},
   "outputs": [
    {
     "name": "stdout",
     "output_type": "stream",
     "text": [
      ">KU641798.1 Pinus pinaster cytosolic glutamine synthetase GS1b (GS1b) mRNA, complete cds\n",
      "CTTCCTCAGGTCGGGCTTGCCCTTTGCATCAATTGCTATAAATTCTTATTTCAGTGGCCTTTATTTCGAA\n",
      "ATAGCAGATCAAAGGCCTTCACTGCTTGCAGAATTATACTTGTGCGGGAGTCTGTGATTTTGTTGTACAT\n",
      "CCAAGATGTCTCTACTGACGGATTTGATCAACTTGGACCTCTCTGATGTCACTGAGAAGATCATCGCTGA\n",
      "GTACATATGGATCGGAGGCTCTGGCATGGATATCCGCAGCAAGGCCAGGACCTTATCTCACCCAGTTACG\n",
      "GACCCCAAAGATCTACCCAAGTGGAATTATGATGGATCCAGTACTGGACAGGCTCCTGGAAAGGATAGTG\n",
      "AAGTCATCCTTTACCCTCAGGCTATCTTCAGGGATCCATTCCGCAGGGGGAACAACATCTTGGTGATTTG\n",
      "TGATACATATACCCCAGCTGGAGAACCTATTCCTACTAACAAGAGAGCAAATGCTGCAAAAATATTTAGC\n",
      "CATCCCGATGTTGTTGTCGAGGAACCATGGTACGGGATTGAACAAGAATACACTCTTCTGCAAAAGGATG\n",
      "TGAATTGGCCTCTTGGATGGCCCGTAGGTGGTTACCCTGGTCCTCAGGGTCCTTATTATTGTGGAACTGG\n",
      "AGCAGACAAAGCCTACGGCCGTGATATCGTCGATGCCCACTATAAGGCTTGCCTGTATGCAGGAATCAAC\n",
      "ATTAGTGGCATCAATGGAGAAGTCATGCCCGGTCAATGGGAATTTCAAGTTGGCCCGACGGTTGGTATTT\n",
      "CATCTGGTGATCAAGTCTGGGCTGCACGTTACCTTCTTGAGAGAATCACAGAAGTGGCTGGTGTTGTCCT\n",
      "CTCATTTGACCCCAAACCCATTCAGGGTGATTGGAATGGTGCTGGTGCTCACACTAACTACAGTACGAAA\n",
      "TCAATGAGAGAAGAAGGGGGAATTAAAGTGATCAAAAAGGCCATTGAAAAGTTAGGGTTGAGGCATAAGG\n",
      "AACACATTGCTGCCTATGGAGAGGGCAACGAGAGGCGTTTGACTGGCCGACATGAGACAGCAGACATAAA\n",
      "CACATTTTCATGGGGAGTTGCAAATCGTGGAGCTTCTATTCGAGTTGGCCGTGACACGGAACGTGAAGGC\n",
      "AAAGGGTACTTCGAAGACCGCAGGCCAGCTTCCAACATGGACCCCTATATTGTAACATCTATGATTGCTG\n",
      "AGACAACCATCCTTTTGAAGTGAGAGTAACATTGTTTACTGAATGAATAAAGATGCCGATACGATTGAAG\n",
      "TGTTCTTGATGCTAGTCAAATTGCGAAGGGATCCCCAATTGTTTGTGGGGGATATTCTCATTTGAATTTC\n",
      "TCTCTGTGCCTGAAGTATTTCCCCTATTTCTGTTAATAAGAACATTCTAGAAATAGGACTTGAGATTTAG\n",
      "GGTGCATTATATTCAGTGTCTAGTTTGTCATTCAG\n",
      "\n",
      ">HE866753.1 Pinus pinaster GS1b gene promoter region\n",
      "TGGTAAATTTCATGTAAAACCGATACAAAAAATAATTAGAAGGGGGGGTTTAGAATATAAAAAGATTCAG\n",
      "TGTGGAAGTTGGATTTATCCGACCAATAAACGACTCCCATGTAAACTCACTCCACAAAACCCTGGGATTC\n",
      "CATCCATGTTTGGTTGGTTCTCGTAAAATGAAGGAGGAGGAGGAGCATTCCTTTCCCTGGCTTGGCTTGG\n",
      "CTCGGCTCGGCTCGGCTTGGCGGGATGAACATCCAAGGGCCACCACTCTCTCCAACACTTTCGGAACCCT\n",
      "AAGCAAGCACTGTCGGATGTGCATGGTAGGCCGGGTAAGTCGGGGAGCGCATTAAATATAGATTAAAGTG\n",
      "AATAAAATAATAATAATAATGTGAGGAAAAAAAGAAATTGGGAATGGAATGCATACGGAATCGTGGGGGA\n",
      "TCGTGATGTCCGTCCATCCGTCACCCATGACTCATGCCTACTTTTAATATTCCACATAAAATGAATACAA\n",
      "TCACCCATGACTCATGCCTACTTTTAATATTCCACATAAAATGAATACAATTCCCCGTGAGGTGCGGCGG\n",
      "GCTACCGCAAATGCAAGTCAAGGAGATATGTCGTGTATAGATTCAAAGCATAGCATGCCATATCATATGG\n",
      "CATGCAGAGGTTCAGATTACAGCTTCAACCGGTCAAGATTAAGGTTGCAACCGGCCGAATCTGGAACTGA\n",
      "CTTCCAGTCCAATCCAACCTCTCGTCAACCTACCACTCTTTCCCACGTTTTAACCCTCCGGGCGGCGCCT\n",
      "TCGCCAAACCCCCTGCGAAACCCCAATTAACTGTGTTAGGTAGTAATAGTGACTTGAGTGACTTCAAGTA\n",
      "TAATTACGACCTTTCTAAATCCAATCCCTACCCTACTACATGGGTTTTCACCGGGGTAAAATATTGACCT\n",
      "ACAAACCACCGCAGTCCAACCACCCTCCCTCCTCCTTCACGAAGAGAGGACTTCGGTTATTCATAATTTA\n",
      "TATTTATAGACCTGCCTTTTTGTCTTAAAAACAATAGAGGTTTCTTAATACCCCATCTTCGTTCATTGGT\n",
      "TTCGATAAATCCTTCCTCAGGTCGGGCTTGCCCTTTGCATCAATTGCTATAAATTCTTATTTCAGCGGCC\n",
      "TTTATTTCGAAATAGCAGATCGAAGGCCTTCACTGCTTGCAGAATTATACTTGTGCGGGGGTCTGTGATT\n",
      "TTGTTGTACATCCAAGATG\n",
      "\n",
      ">HF548531.1 Pinus pinaster GS1b gene for glutamine synthetase\n",
      "AGTGGATCCCCCGGGCTGCAGGTCCCCATCTTCTTTCATTGGTTTCTATAAATTCTTCCTCAGGTTGGGG\n",
      "TTGCCCTTTGCATCAATTGCTATAAATTCTTATTTCAGTGGCCTTTATTTCGAAATAGCAGATCAAAGGC\n",
      "CTTCACTGCTTGCAGAATTATACTTGTGCGGGAGTCTGTGATTTTGTTGTACATCCAAGATGTCTCTACT\n",
      "GACGGATTTGATCAACTTGGACCTCTCTGATGTCACTGAGAAGATCATCGCTGAGTACATATGGATCGGA\n",
      "GGCTCTGGCATGGATATCCGCAGCAAGGCCAGGACCTTATCTCACCCAGTTACGGACCCCAAAGATCTAC\n",
      "CCAAGTGGAATTATGATGGATCCAGTACTGGACAGGCTCCTGGAAAGGATAGTGAAGTCATCCTTTACCC\n",
      "TCAGGCTATCTTCAGGGATCCATTCCGCAGGGGGAACAACATCTTGGTGATTTGTGATACATATACCCCA\n",
      "GCTGGAGAACCTATTCCTACTAACAAGAGAGCAAATGCTGCAAAAATATTTAGCCATCCCGATGTTGTTG\n",
      "TCGAGGAACCATGGTACGGGATTGAACAAGAATACACTCTTCTGCAAAAGGATGTGAATTGGCCTCTTGG\n",
      "ATGGCCCGTAGGTGGTTACCCTGGTCCTCAGGGTCCTTATTATTGTGGAACTGGAGCAGACAAAGCCTAC\n",
      "GGCCGTGATATCGTCGATGCCCACTATAAGGCTTGCCTGTATGCAGGAATCAACATTAGTGGCATCAATG\n",
      "GAGAAGTCATGCCCGGTCAATGGGAATTTCAAGTTGGCCCGACGGTTGGTATTTCATCTGGTGATCAAGT\n",
      "CTGGGCTGCACGTTACCTTCTTGAGAGAATCACAGAAGTGGCTGGTGTTGTCCTCTCATTTGACCCCAAA\n",
      "CCCATTCAGGGTGATTGGAATGGTGCTGGTGCTCACACTAACTACAGTACGAAATCAATGAGAGAAGAAG\n",
      "GGGGAATTAAAGTGATCAAAAAGGCCATTGAAAAGTTAGGGTTGAGGCATAAGGAACACATTGCTGCCTA\n",
      "TGGAGAGGGCAACGAGAGGCGTTTGACTGGCCGACATGAGACAGCAGACATAAACACATTTTCATGGGGA\n",
      "GTTGCAAATCGTGGAGCTTCTATTCGAGTTGGCCGTGACACGGAACGTGAAGGCAAAGGGTACTTCGAAG\n",
      "ACCGCAGGCCAGCTTCCAACATGGACCCCTATATTGTAACATCTATGATTGCTGAGACAACCATCCTTTT\n",
      "GAAGTGAGAGTAACATTGTTTACTGAATGAATAAAGATGCCGATACGATTGAAGTGTTCTTGATGCTAGT\n",
      "CAAATTGCGAAGGGATCCCCAATTGTTTGTGGGGGATATTCTCATTTGAATTTCTCTCTGTGCCTGAAGT\n",
      "ATTTCCCCTATTTCTGTTAATAAGAACATTCTAGAAATAGGACTTGAGATTTAGGGTGCATTATATTCAG\n",
      "TGTCTAGTTTGTCATTCAGATTTGCATTATTCCATGACTCTGATATGATTGGTGTGCAGTTGAATTTAAT\n",
      "GAATTCAGAAGTTCTTTAATTGCTTGCGAAGGTTGGGG\n",
      "\n",
      "\n"
     ]
    }
   ],
   "source": [
    "ids_post = \",\".join(ids[\"IdList\"])\n",
    "handle = Entrez.epost(\"nucleotide\", id=ids_post)\n",
    "session = Entrez.read(handle)\n",
    "webenv = session[\"WebEnv\"]\n",
    "query_key = session[\"QueryKey\"]\n",
    "handle = Entrez.efetch(db=\"nucleotide\", id=ids[\"IdList\"], retmode=\"text\",  rettype=\"fasta\", webenv=webenv, query_key=query_key)\n",
    "record = handle.read()\n",
    "handle.close()\n",
    "print(record)"
   ]
  },
  {
   "cell_type": "code",
   "execution_count": null,
   "metadata": {},
   "outputs": [],
   "source": []
  }
 ],
 "metadata": {
  "kernelspec": {
   "display_name": "Python 3",
   "language": "python",
   "name": "python3"
  },
  "language_info": {
   "codemirror_mode": {
    "name": "ipython",
    "version": 3
   },
   "file_extension": ".py",
   "mimetype": "text/x-python",
   "name": "python",
   "nbconvert_exporter": "python",
   "pygments_lexer": "ipython3",
   "version": "3.6.4"
  }
 },
 "nbformat": 4,
 "nbformat_minor": 2
}
